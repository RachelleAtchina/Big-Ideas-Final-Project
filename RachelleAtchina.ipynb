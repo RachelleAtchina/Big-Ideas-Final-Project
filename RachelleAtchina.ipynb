{
 "cells": [
  {
   "cell_type": "code",
   "execution_count": null,
   "id": "ac48340c-f768-45fa-9af5-dc6be987e2de",
   "metadata": {},
   "outputs": [],
   "source": [
    "Rachelle Atchina -- Road Closures in Pittsburgh"
   ]
  },
  {
   "cell_type": "code",
   "execution_count": 2,
   "id": "dfb2e75b-127c-4d14-9c13-4653e381adda",
   "metadata": {},
   "outputs": [],
   "source": [
    "import pandas as pd\n",
    "import numpy as np\n",
    "%matplotlib inline\n",
    "import matplotlib.pyplot as plt"
   ]
  },
  {
   "cell_type": "code",
   "execution_count": 20,
   "id": "8aa60b2a-de40-4662-a5c7-42427b2d3be7",
   "metadata": {},
   "outputs": [
    {
     "name": "stdout",
     "output_type": "stream",
     "text": [
      "neighborhood\n",
      "Carrick                      307\n",
      "Central Business District    290\n",
      "South Side Flats             289\n",
      "Squirrel Hill South          268\n",
      "Hazelwood                    257\n",
      "                            ... \n",
      "Ridgemont                     12\n",
      "Mt. Oliver                    12\n",
      "East Carnegie                 11\n",
      "Regent Square                  9\n",
      "Mount Oliver Borough           6\n",
      "Name: count, Length: 91, dtype: int64\n"
     ]
    }
   ],
   "source": [
    "fires = pd.read_csv(\"Fires.csv\")\n",
    "fires.head()\n",
    "counts = fires[\"neighborhood\"].value_counts()\n",
    "print (counts)"
   ]
  }
 ],
 "metadata": {
  "kernelspec": {
   "display_name": "Python 3 (ipykernel)",
   "language": "python",
   "name": "python3"
  },
  "language_info": {
   "codemirror_mode": {
    "name": "ipython",
    "version": 3
   },
   "file_extension": ".py",
   "mimetype": "text/x-python",
   "name": "python",
   "nbconvert_exporter": "python",
   "pygments_lexer": "ipython3",
   "version": "3.12.7"
  }
 },
 "nbformat": 4,
 "nbformat_minor": 5
}
